{
 "cells": [
  {
   "cell_type": "markdown",
   "id": "83d50776",
   "metadata": {},
   "source": [
    "# Import packages"
   ]
  },
  {
   "cell_type": "code",
   "execution_count": 28,
   "id": "f3856976",
   "metadata": {},
   "outputs": [],
   "source": [
    "import pandas as pd\n",
    "import numpy as np\n",
    "import matplotlib.pyplot as plt\n",
    "import seaborn as sns"
   ]
  },
  {
   "cell_type": "markdown",
   "id": "56662461",
   "metadata": {},
   "source": [
    "## Read in data (Extract)"
   ]
  },
  {
   "cell_type": "code",
   "execution_count": 29,
   "id": "9087229f",
   "metadata": {},
   "outputs": [],
   "source": [
    "data = pd.read_csv(r'C:\\Users\\dlaminis\\Desktop\\practice\\Geospatial Projects\\Zomato\\zomato.csv')"
   ]
  },
  {
   "cell_type": "code",
   "execution_count": 30,
   "id": "da921a8e",
   "metadata": {},
   "outputs": [
    {
     "data": {
      "text/plain": [
       "(51717, 17)"
      ]
     },
     "execution_count": 30,
     "metadata": {},
     "output_type": "execute_result"
    }
   ],
   "source": [
    "type(data) # dataframe (collection/key-value pair; 2D) or series (array/list; 1D)\n",
    "data.head(5) # first 5 records\n",
    "data.columns # list of columns of data\n",
    "data.shape # rows x columns"
   ]
  },
  {
   "cell_type": "markdown",
   "id": "d4327cfc",
   "metadata": {},
   "source": [
    "## Data Transformation (Transform)"
   ]
  },
  {
   "cell_type": "markdown",
   "id": "c2683246",
   "metadata": {},
   "source": [
    "### 1. Check for duplicates"
   ]
  },
  {
   "cell_type": "code",
   "execution_count": 32,
   "id": "34b9f2d1",
   "metadata": {},
   "outputs": [
    {
     "data": {
      "text/plain": [
       "0"
      ]
     },
     "execution_count": 32,
     "metadata": {},
     "output_type": "execute_result"
    }
   ],
   "source": [
    "data.duplicated() # shows if particular instance/record is duplicated \n",
    "data.duplicated().sum() # get total number of duplicated rows"
   ]
  },
  {
   "cell_type": "markdown",
   "id": "a5a1d514",
   "metadata": {},
   "source": [
    "### 2. Check for missing values"
   ]
  },
  {
   "cell_type": "code",
   "execution_count": 36,
   "id": "0f0e59ab",
   "metadata": {},
   "outputs": [
    {
     "data": {
      "text/plain": [
       "url                                0\n",
       "address                            0\n",
       "name                               0\n",
       "online_order                       0\n",
       "book_table                         0\n",
       "rate                            7754\n",
       "votes                              0\n",
       "phone                           1187\n",
       "location                           0\n",
       "rest_type                        206\n",
       "dish_liked                     28057\n",
       "cuisines                          24\n",
       "approx_cost(for two people)      325\n",
       "reviews_list                       0\n",
       "menu_item                          0\n",
       "listed_in(type)                    0\n",
       "listed_in(city)                    0\n",
       "dtype: int64"
      ]
     },
     "execution_count": 36,
     "metadata": {},
     "output_type": "execute_result"
    }
   ],
   "source": [
    "data.isnull() # shows if cells are null (True/False)\n",
    "data.isnull().sum() # shows number of cells null by features\n",
    "\n",
    "# if there is a col w >50% of rows missing or there are few missing values, drop col\n",
    "data.dropna(subset=['location'], inplace = True)  # \"inplace\" = update current df\n",
    "data.isnull().sum()"
   ]
  },
  {
   "cell_type": "code",
   "execution_count": 45,
   "id": "4c1dce2f",
   "metadata": {},
   "outputs": [],
   "source": [
    "df = data.copy() # for manipulation"
   ]
  },
  {
   "cell_type": "code",
   "execution_count": 46,
   "id": "27a8db93",
   "metadata": {},
   "outputs": [],
   "source": [
    "df.head(5)\n",
    "\n",
    "# location is of interest, currently only shows city name; needs to be more readable and have more info\n",
    "df['location'] = df['location'] + \", Bangalore, Karnataka, India\""
   ]
  },
  {
   "cell_type": "code",
   "execution_count": 47,
   "id": "246dc28a",
   "metadata": {},
   "outputs": [
    {
     "data": {
      "text/plain": [
       "0                Banashankari, Bangalore, Karnataka, India\n",
       "1                Banashankari, Bangalore, Karnataka, India\n",
       "2                Banashankari, Bangalore, Karnataka, India\n",
       "3                Banashankari, Bangalore, Karnataka, India\n",
       "4                Basavanagudi, Bangalore, Karnataka, India\n",
       "                               ...                        \n",
       "51712              Whitefield, Bangalore, Karnataka, India\n",
       "51713              Whitefield, Bangalore, Karnataka, India\n",
       "51714              Whitefield, Bangalore, Karnataka, India\n",
       "51715    ITPL Main Road, Whitefield, Bangalore, Karnata...\n",
       "51716    ITPL Main Road, Whitefield, Bangalore, Karnata...\n",
       "Name: location, Length: 51696, dtype: object"
      ]
     },
     "execution_count": 47,
     "metadata": {},
     "output_type": "execute_result"
    }
   ],
   "source": [
    "df['location']"
   ]
  },
  {
   "cell_type": "markdown",
   "id": "561b4010",
   "metadata": {},
   "source": [
    "### 3. Check various data types"
   ]
  },
  {
   "cell_type": "code",
   "execution_count": 48,
   "id": "a582e34a",
   "metadata": {},
   "outputs": [
    {
     "data": {
      "text/plain": [
       "url                            object\n",
       "address                        object\n",
       "name                           object\n",
       "online_order                   object\n",
       "book_table                     object\n",
       "rate                           object\n",
       "votes                           int64\n",
       "phone                          object\n",
       "location                       object\n",
       "rest_type                      object\n",
       "dish_liked                     object\n",
       "cuisines                       object\n",
       "approx_cost(for two people)    object\n",
       "reviews_list                   object\n",
       "menu_item                      object\n",
       "listed_in(type)                object\n",
       "listed_in(city)                object\n",
       "dtype: object"
      ]
     },
     "execution_count": 48,
     "metadata": {},
     "output_type": "execute_result"
    }
   ],
   "source": [
    "df.dtypes"
   ]
  },
  {
   "cell_type": "markdown",
   "id": "df123e6f",
   "metadata": {},
   "source": [
    "# Extract Latitude and Longitude from data"
   ]
  },
  {
   "cell_type": "code",
   "execution_count": 49,
   "id": "c111f089",
   "metadata": {},
   "outputs": [
    {
     "data": {
      "text/html": [
       "<div>\n",
       "<style scoped>\n",
       "    .dataframe tbody tr th:only-of-type {\n",
       "        vertical-align: middle;\n",
       "    }\n",
       "\n",
       "    .dataframe tbody tr th {\n",
       "        vertical-align: top;\n",
       "    }\n",
       "\n",
       "    .dataframe thead th {\n",
       "        text-align: right;\n",
       "    }\n",
       "</style>\n",
       "<table border=\"1\" class=\"dataframe\">\n",
       "  <thead>\n",
       "    <tr style=\"text-align: right;\">\n",
       "      <th></th>\n",
       "      <th>url</th>\n",
       "      <th>address</th>\n",
       "      <th>name</th>\n",
       "      <th>online_order</th>\n",
       "      <th>book_table</th>\n",
       "      <th>rate</th>\n",
       "      <th>votes</th>\n",
       "      <th>phone</th>\n",
       "      <th>location</th>\n",
       "      <th>rest_type</th>\n",
       "      <th>dish_liked</th>\n",
       "      <th>cuisines</th>\n",
       "      <th>approx_cost(for two people)</th>\n",
       "      <th>reviews_list</th>\n",
       "      <th>menu_item</th>\n",
       "      <th>listed_in(type)</th>\n",
       "      <th>listed_in(city)</th>\n",
       "    </tr>\n",
       "  </thead>\n",
       "  <tbody>\n",
       "    <tr>\n",
       "      <th>0</th>\n",
       "      <td>https://www.zomato.com/bangalore/jalsa-banasha...</td>\n",
       "      <td>942, 21st Main Road, 2nd Stage, Banashankari, ...</td>\n",
       "      <td>Jalsa</td>\n",
       "      <td>Yes</td>\n",
       "      <td>Yes</td>\n",
       "      <td>4.1/5</td>\n",
       "      <td>775</td>\n",
       "      <td>080 42297555\\r\\n+91 9743772233</td>\n",
       "      <td>Banashankari, Bangalore, Karnataka, India</td>\n",
       "      <td>Casual Dining</td>\n",
       "      <td>Pasta, Lunch Buffet, Masala Papad, Paneer Laja...</td>\n",
       "      <td>North Indian, Mughlai, Chinese</td>\n",
       "      <td>800</td>\n",
       "      <td>[('Rated 4.0', 'RATED\\n  A beautiful place to ...</td>\n",
       "      <td>[]</td>\n",
       "      <td>Buffet</td>\n",
       "      <td>Banashankari</td>\n",
       "    </tr>\n",
       "    <tr>\n",
       "      <th>1</th>\n",
       "      <td>https://www.zomato.com/bangalore/spice-elephan...</td>\n",
       "      <td>2nd Floor, 80 Feet Road, Near Big Bazaar, 6th ...</td>\n",
       "      <td>Spice Elephant</td>\n",
       "      <td>Yes</td>\n",
       "      <td>No</td>\n",
       "      <td>4.1/5</td>\n",
       "      <td>787</td>\n",
       "      <td>080 41714161</td>\n",
       "      <td>Banashankari, Bangalore, Karnataka, India</td>\n",
       "      <td>Casual Dining</td>\n",
       "      <td>Momos, Lunch Buffet, Chocolate Nirvana, Thai G...</td>\n",
       "      <td>Chinese, North Indian, Thai</td>\n",
       "      <td>800</td>\n",
       "      <td>[('Rated 4.0', 'RATED\\n  Had been here for din...</td>\n",
       "      <td>[]</td>\n",
       "      <td>Buffet</td>\n",
       "      <td>Banashankari</td>\n",
       "    </tr>\n",
       "    <tr>\n",
       "      <th>2</th>\n",
       "      <td>https://www.zomato.com/SanchurroBangalore?cont...</td>\n",
       "      <td>1112, Next to KIMS Medical College, 17th Cross...</td>\n",
       "      <td>San Churro Cafe</td>\n",
       "      <td>Yes</td>\n",
       "      <td>No</td>\n",
       "      <td>3.8/5</td>\n",
       "      <td>918</td>\n",
       "      <td>+91 9663487993</td>\n",
       "      <td>Banashankari, Bangalore, Karnataka, India</td>\n",
       "      <td>Cafe, Casual Dining</td>\n",
       "      <td>Churros, Cannelloni, Minestrone Soup, Hot Choc...</td>\n",
       "      <td>Cafe, Mexican, Italian</td>\n",
       "      <td>800</td>\n",
       "      <td>[('Rated 3.0', \"RATED\\n  Ambience is not that ...</td>\n",
       "      <td>[]</td>\n",
       "      <td>Buffet</td>\n",
       "      <td>Banashankari</td>\n",
       "    </tr>\n",
       "  </tbody>\n",
       "</table>\n",
       "</div>"
      ],
      "text/plain": [
       "                                                 url  \\\n",
       "0  https://www.zomato.com/bangalore/jalsa-banasha...   \n",
       "1  https://www.zomato.com/bangalore/spice-elephan...   \n",
       "2  https://www.zomato.com/SanchurroBangalore?cont...   \n",
       "\n",
       "                                             address             name  \\\n",
       "0  942, 21st Main Road, 2nd Stage, Banashankari, ...            Jalsa   \n",
       "1  2nd Floor, 80 Feet Road, Near Big Bazaar, 6th ...   Spice Elephant   \n",
       "2  1112, Next to KIMS Medical College, 17th Cross...  San Churro Cafe   \n",
       "\n",
       "  online_order book_table   rate  votes                           phone  \\\n",
       "0          Yes        Yes  4.1/5    775  080 42297555\\r\\n+91 9743772233   \n",
       "1          Yes         No  4.1/5    787                    080 41714161   \n",
       "2          Yes         No  3.8/5    918                  +91 9663487993   \n",
       "\n",
       "                                    location            rest_type  \\\n",
       "0  Banashankari, Bangalore, Karnataka, India        Casual Dining   \n",
       "1  Banashankari, Bangalore, Karnataka, India        Casual Dining   \n",
       "2  Banashankari, Bangalore, Karnataka, India  Cafe, Casual Dining   \n",
       "\n",
       "                                          dish_liked  \\\n",
       "0  Pasta, Lunch Buffet, Masala Papad, Paneer Laja...   \n",
       "1  Momos, Lunch Buffet, Chocolate Nirvana, Thai G...   \n",
       "2  Churros, Cannelloni, Minestrone Soup, Hot Choc...   \n",
       "\n",
       "                         cuisines approx_cost(for two people)  \\\n",
       "0  North Indian, Mughlai, Chinese                         800   \n",
       "1     Chinese, North Indian, Thai                         800   \n",
       "2          Cafe, Mexican, Italian                         800   \n",
       "\n",
       "                                        reviews_list menu_item  \\\n",
       "0  [('Rated 4.0', 'RATED\\n  A beautiful place to ...        []   \n",
       "1  [('Rated 4.0', 'RATED\\n  Had been here for din...        []   \n",
       "2  [('Rated 3.0', \"RATED\\n  Ambience is not that ...        []   \n",
       "\n",
       "  listed_in(type) listed_in(city)  \n",
       "0          Buffet    Banashankari  \n",
       "1          Buffet    Banashankari  \n",
       "2          Buffet    Banashankari  "
      ]
     },
     "execution_count": 49,
     "metadata": {},
     "output_type": "execute_result"
    }
   ],
   "source": [
    "df.head(3)\n",
    "# the data does not have lat and long, only address and name"
   ]
  },
  {
   "cell_type": "code",
   "execution_count": 52,
   "id": "22782bb7",
   "metadata": {},
   "outputs": [],
   "source": [
    "# Create a new df where we have all unique locations so that we can extract lat and ling\n",
    "rest_loc = pd.DataFrame() # blank df"
   ]
  },
  {
   "cell_type": "code",
   "execution_count": 53,
   "id": "fd3f3c25",
   "metadata": {},
   "outputs": [],
   "source": [
    "# store all unique location names in the new df\n",
    "rest_loc['Name'] = df['location'].unique()"
   ]
  },
  {
   "cell_type": "code",
   "execution_count": 55,
   "id": "0cb9756d",
   "metadata": {},
   "outputs": [
    {
     "data": {
      "text/html": [
       "<div>\n",
       "<style scoped>\n",
       "    .dataframe tbody tr th:only-of-type {\n",
       "        vertical-align: middle;\n",
       "    }\n",
       "\n",
       "    .dataframe tbody tr th {\n",
       "        vertical-align: top;\n",
       "    }\n",
       "\n",
       "    .dataframe thead th {\n",
       "        text-align: right;\n",
       "    }\n",
       "</style>\n",
       "<table border=\"1\" class=\"dataframe\">\n",
       "  <thead>\n",
       "    <tr style=\"text-align: right;\">\n",
       "      <th></th>\n",
       "      <th>Name</th>\n",
       "    </tr>\n",
       "  </thead>\n",
       "  <tbody>\n",
       "    <tr>\n",
       "      <th>0</th>\n",
       "      <td>Banashankari, Bangalore, Karnataka, India</td>\n",
       "    </tr>\n",
       "    <tr>\n",
       "      <th>1</th>\n",
       "      <td>Basavanagudi, Bangalore, Karnataka, India</td>\n",
       "    </tr>\n",
       "    <tr>\n",
       "      <th>2</th>\n",
       "      <td>Mysore Road, Bangalore, Karnataka, India</td>\n",
       "    </tr>\n",
       "    <tr>\n",
       "      <th>3</th>\n",
       "      <td>Jayanagar, Bangalore, Karnataka, India</td>\n",
       "    </tr>\n",
       "    <tr>\n",
       "      <th>4</th>\n",
       "      <td>Kumaraswamy Layout, Bangalore, Karnataka, India</td>\n",
       "    </tr>\n",
       "    <tr>\n",
       "      <th>...</th>\n",
       "      <td>...</td>\n",
       "    </tr>\n",
       "    <tr>\n",
       "      <th>88</th>\n",
       "      <td>West Bangalore, Bangalore, Karnataka, India</td>\n",
       "    </tr>\n",
       "    <tr>\n",
       "      <th>89</th>\n",
       "      <td>Magadi Road, Bangalore, Karnataka, India</td>\n",
       "    </tr>\n",
       "    <tr>\n",
       "      <th>90</th>\n",
       "      <td>Yelahanka, Bangalore, Karnataka, India</td>\n",
       "    </tr>\n",
       "    <tr>\n",
       "      <th>91</th>\n",
       "      <td>Sahakara Nagar, Bangalore, Karnataka, India</td>\n",
       "    </tr>\n",
       "    <tr>\n",
       "      <th>92</th>\n",
       "      <td>Peenya, Bangalore, Karnataka, India</td>\n",
       "    </tr>\n",
       "  </tbody>\n",
       "</table>\n",
       "<p>93 rows × 1 columns</p>\n",
       "</div>"
      ],
      "text/plain": [
       "                                               Name\n",
       "0         Banashankari, Bangalore, Karnataka, India\n",
       "1         Basavanagudi, Bangalore, Karnataka, India\n",
       "2          Mysore Road, Bangalore, Karnataka, India\n",
       "3            Jayanagar, Bangalore, Karnataka, India\n",
       "4   Kumaraswamy Layout, Bangalore, Karnataka, India\n",
       "..                                              ...\n",
       "88      West Bangalore, Bangalore, Karnataka, India\n",
       "89         Magadi Road, Bangalore, Karnataka, India\n",
       "90           Yelahanka, Bangalore, Karnataka, India\n",
       "91      Sahakara Nagar, Bangalore, Karnataka, India\n",
       "92              Peenya, Bangalore, Karnataka, India\n",
       "\n",
       "[93 rows x 1 columns]"
      ]
     },
     "execution_count": 55,
     "metadata": {},
     "output_type": "execute_result"
    }
   ],
   "source": [
    "rest_loc"
   ]
  },
  {
   "cell_type": "code",
   "execution_count": 56,
   "id": "109ad559",
   "metadata": {},
   "outputs": [
    {
     "name": "stdout",
     "output_type": "stream",
     "text": [
      "Collecting geopy\n",
      "  Obtaining dependency information for geopy from https://files.pythonhosted.org/packages/e5/15/cf2a69ade4b194aa524ac75112d5caac37414b20a3a03e6865dfe0bd1539/geopy-2.4.1-py3-none-any.whl.metadata\n",
      "  Downloading geopy-2.4.1-py3-none-any.whl.metadata (6.8 kB)\n",
      "Collecting geographiclib<3,>=1.52 (from geopy)\n",
      "  Downloading geographiclib-2.0-py3-none-any.whl (40 kB)\n",
      "     ---------------------------------------- 0.0/40.3 kB ? eta -:--:--\n",
      "     ---------------------------------------- 0.0/40.3 kB ? eta -:--:--\n",
      "     ---------------------------------------- 0.0/40.3 kB ? eta -:--:--\n",
      "     ---------- ----------------------------- 10.2/40.3 kB ? eta -:--:--\n",
      "     ---------- ----------------------------- 10.2/40.3 kB ? eta -:--:--\n",
      "     ------------------- ------------------ 20.5/40.3 kB 131.3 kB/s eta 0:00:01\n",
      "     ------------------- ------------------ 20.5/40.3 kB 131.3 kB/s eta 0:00:01\n",
      "     ---------------------------- --------- 30.7/40.3 kB 131.3 kB/s eta 0:00:01\n",
      "     ---------------------------- --------- 30.7/40.3 kB 131.3 kB/s eta 0:00:01\n",
      "     ---------------------------- --------- 30.7/40.3 kB 131.3 kB/s eta 0:00:01\n",
      "     -------------------------------------- 40.3/40.3 kB 101.3 kB/s eta 0:00:00\n",
      "Downloading geopy-2.4.1-py3-none-any.whl (125 kB)\n",
      "   ---------------------------------------- 0.0/125.4 kB ? eta -:--:--\n",
      "   ---------------------------------------- 0.0/125.4 kB ? eta -:--:--\n",
      "   ---------------------------------------- 0.0/125.4 kB ? eta -:--:--\n",
      "   --- ------------------------------------ 10.2/125.4 kB ? eta -:--:--\n",
      "   --- ------------------------------------ 10.2/125.4 kB ? eta -:--:--\n",
      "   --- ------------------------------------ 10.2/125.4 kB ? eta -:--:--\n",
      "   --------- ----------------------------- 30.7/125.4 kB 163.8 kB/s eta 0:00:01\n",
      "   --------- ----------------------------- 30.7/125.4 kB 163.8 kB/s eta 0:00:01\n",
      "   ------------ -------------------------- 41.0/125.4 kB 163.4 kB/s eta 0:00:01\n",
      "   ------------ -------------------------- 41.0/125.4 kB 163.4 kB/s eta 0:00:01\n",
      "   ------------------- ------------------- 61.4/125.4 kB 192.5 kB/s eta 0:00:01\n",
      "   ------------------- ------------------- 61.4/125.4 kB 192.5 kB/s eta 0:00:01\n",
      "   ------------------------- ------------- 81.9/125.4 kB 199.1 kB/s eta 0:00:01\n",
      "   ------------------------- ------------- 81.9/125.4 kB 199.1 kB/s eta 0:00:01\n",
      "   ---------------------------- ---------- 92.2/125.4 kB 187.0 kB/s eta 0:00:01\n",
      "   ---------------------------- ---------- 92.2/125.4 kB 187.0 kB/s eta 0:00:01\n",
      "   ---------------------------------- --- 112.6/125.4 kB 192.5 kB/s eta 0:00:01\n",
      "   -------------------------------------  122.9/125.4 kB 189.6 kB/s eta 0:00:01\n",
      "   -------------------------------------- 125.4/125.4 kB 179.7 kB/s eta 0:00:00\n",
      "Installing collected packages: geographiclib, geopy\n",
      "Successfully installed geographiclib-2.0 geopy-2.4.1\n"
     ]
    }
   ],
   "source": [
    "# using nomanitam tool under geopy to extract coords from openstreet map (geocoding)\n",
    "!pip install geopy"
   ]
  },
  {
   "cell_type": "code",
   "execution_count": 57,
   "id": "60be72c7",
   "metadata": {},
   "outputs": [],
   "source": [
    "from geopy.geocoders import Nominatim"
   ]
  },
  {
   "cell_type": "code",
   "execution_count": 58,
   "id": "2eb60e4a",
   "metadata": {},
   "outputs": [],
   "source": [
    "geolocator = Nominatim(user_agent= \"app\", timeout=None)"
   ]
  },
  {
   "cell_type": "code",
   "execution_count": 62,
   "id": "d8c1e371",
   "metadata": {},
   "outputs": [],
   "source": [
    "lat = []\n",
    "long = []\n",
    "\n",
    "for name in rest_loc['Name']:\n",
    "    location = geolocator.geocode(name)\n",
    "    \n",
    "    if location is None: # if the Nominatim is unable to geocode\n",
    "        lat.append(np.nan)\n",
    "        long.append(np.nan)\n",
    "        \n",
    "    else:\n",
    "        lat.append(location.latitude)\n",
    "        long.append(location.longitude)"
   ]
  },
  {
   "cell_type": "code",
   "execution_count": 63,
   "id": "b952bcb8",
   "metadata": {},
   "outputs": [
    {
     "name": "stdout",
     "output_type": "stream",
     "text": [
      "[12.9152208, 12.9417261, 12.9466619, 12.9292731, 12.9081487, 12.9274413, 12.9660722, 12.9055682, 12.9096941, 12.93060265, 12.965717999999999, 12.9841958, 12.8551932, 12.911275849999999, 12.8901688, 12.9089453, 12.985098650000001, 12.848759900000001, 12.9116225, 12.9552572, 12.9244812, 12.9489339, 12.9575547, 12.9348429, 12.9408685, 12.9662372, 12.9364846, 13.0464531, 12.9327778, 12.93103185, 12.9696365, 13.001147, 12.9572041, 12.9732913, 12.9277245, 12.9986827, 13.0227204, 12.9755264, 12.9750849, 12.9749487, 12.9756281, 12.9778793, 12.974103, 12.986391, 12.9821293, 12.9744255, 12.9844498, 12.9843978, 12.9822324, 12.9934283, 13.0358698, 12.9624669, 12.945245, 12.9678074, 13.0262267, 13.0027353, 12.9931876, 13.0093455, 12.9390255, 12.978129800000001, 12.957998, 12.97339325, 12.9578658, 12.957434549999999, 12.987693, 12.944569, 13.007516, 12.9243692, 12.9282918, 12.9340114, 12.9344425, 12.9882338, 13.0141618, 13.022234699999998, 13.0431413, 13.0258087, 13.0221416, 13.0268145, 13.0784743, nan, 12.973936, 12.9846713, 13.0382184, 12.9176571, 12.9893513, nan, 12.991257, 13.02383, 13.009476450000001, 12.975608, 13.1006982, 13.0621474, 13.0329419]\n"
     ]
    }
   ],
   "source": [
    "print(lat)"
   ]
  },
  {
   "cell_type": "code",
   "execution_count": 64,
   "id": "a5c21f67",
   "metadata": {},
   "outputs": [],
   "source": [
    "rest_loc['lat'] = lat\n",
    "rest_loc['long'] = long"
   ]
  },
  {
   "cell_type": "code",
   "execution_count": 65,
   "id": "6d1edccb",
   "metadata": {},
   "outputs": [
    {
     "data": {
      "text/html": [
       "<div>\n",
       "<style scoped>\n",
       "    .dataframe tbody tr th:only-of-type {\n",
       "        vertical-align: middle;\n",
       "    }\n",
       "\n",
       "    .dataframe tbody tr th {\n",
       "        vertical-align: top;\n",
       "    }\n",
       "\n",
       "    .dataframe thead th {\n",
       "        text-align: right;\n",
       "    }\n",
       "</style>\n",
       "<table border=\"1\" class=\"dataframe\">\n",
       "  <thead>\n",
       "    <tr style=\"text-align: right;\">\n",
       "      <th></th>\n",
       "      <th>Name</th>\n",
       "      <th>lat</th>\n",
       "      <th>long</th>\n",
       "    </tr>\n",
       "  </thead>\n",
       "  <tbody>\n",
       "    <tr>\n",
       "      <th>0</th>\n",
       "      <td>Banashankari, Bangalore, Karnataka, India</td>\n",
       "      <td>12.915221</td>\n",
       "      <td>77.573598</td>\n",
       "    </tr>\n",
       "    <tr>\n",
       "      <th>1</th>\n",
       "      <td>Basavanagudi, Bangalore, Karnataka, India</td>\n",
       "      <td>12.941726</td>\n",
       "      <td>77.575502</td>\n",
       "    </tr>\n",
       "    <tr>\n",
       "      <th>2</th>\n",
       "      <td>Mysore Road, Bangalore, Karnataka, India</td>\n",
       "      <td>12.946662</td>\n",
       "      <td>77.530090</td>\n",
       "    </tr>\n",
       "    <tr>\n",
       "      <th>3</th>\n",
       "      <td>Jayanagar, Bangalore, Karnataka, India</td>\n",
       "      <td>12.929273</td>\n",
       "      <td>77.582423</td>\n",
       "    </tr>\n",
       "    <tr>\n",
       "      <th>4</th>\n",
       "      <td>Kumaraswamy Layout, Bangalore, Karnataka, India</td>\n",
       "      <td>12.908149</td>\n",
       "      <td>77.555318</td>\n",
       "    </tr>\n",
       "    <tr>\n",
       "      <th>...</th>\n",
       "      <td>...</td>\n",
       "      <td>...</td>\n",
       "      <td>...</td>\n",
       "    </tr>\n",
       "    <tr>\n",
       "      <th>88</th>\n",
       "      <td>West Bangalore, Bangalore, Karnataka, India</td>\n",
       "      <td>13.009476</td>\n",
       "      <td>77.553089</td>\n",
       "    </tr>\n",
       "    <tr>\n",
       "      <th>89</th>\n",
       "      <td>Magadi Road, Bangalore, Karnataka, India</td>\n",
       "      <td>12.975608</td>\n",
       "      <td>77.555356</td>\n",
       "    </tr>\n",
       "    <tr>\n",
       "      <th>90</th>\n",
       "      <td>Yelahanka, Bangalore, Karnataka, India</td>\n",
       "      <td>13.100698</td>\n",
       "      <td>77.596345</td>\n",
       "    </tr>\n",
       "    <tr>\n",
       "      <th>91</th>\n",
       "      <td>Sahakara Nagar, Bangalore, Karnataka, India</td>\n",
       "      <td>13.062147</td>\n",
       "      <td>77.580061</td>\n",
       "    </tr>\n",
       "    <tr>\n",
       "      <th>92</th>\n",
       "      <td>Peenya, Bangalore, Karnataka, India</td>\n",
       "      <td>13.032942</td>\n",
       "      <td>77.527325</td>\n",
       "    </tr>\n",
       "  </tbody>\n",
       "</table>\n",
       "<p>93 rows × 3 columns</p>\n",
       "</div>"
      ],
      "text/plain": [
       "                                               Name        lat       long\n",
       "0         Banashankari, Bangalore, Karnataka, India  12.915221  77.573598\n",
       "1         Basavanagudi, Bangalore, Karnataka, India  12.941726  77.575502\n",
       "2          Mysore Road, Bangalore, Karnataka, India  12.946662  77.530090\n",
       "3            Jayanagar, Bangalore, Karnataka, India  12.929273  77.582423\n",
       "4   Kumaraswamy Layout, Bangalore, Karnataka, India  12.908149  77.555318\n",
       "..                                              ...        ...        ...\n",
       "88      West Bangalore, Bangalore, Karnataka, India  13.009476  77.553089\n",
       "89         Magadi Road, Bangalore, Karnataka, India  12.975608  77.555356\n",
       "90           Yelahanka, Bangalore, Karnataka, India  13.100698  77.596345\n",
       "91      Sahakara Nagar, Bangalore, Karnataka, India  13.062147  77.580061\n",
       "92              Peenya, Bangalore, Karnataka, India  13.032942  77.527325\n",
       "\n",
       "[93 rows x 3 columns]"
      ]
     },
     "execution_count": 65,
     "metadata": {},
     "output_type": "execute_result"
    }
   ],
   "source": [
    "rest_loc"
   ]
  },
  {
   "cell_type": "code",
   "execution_count": 66,
   "id": "e6252758",
   "metadata": {},
   "outputs": [
    {
     "data": {
      "text/plain": [
       "Name    0\n",
       "lat     2\n",
       "long    2\n",
       "dtype: int64"
      ]
     },
     "execution_count": 66,
     "metadata": {},
     "output_type": "execute_result"
    }
   ],
   "source": [
    "# check for missing values\n",
    "rest_loc.isnull().sum()"
   ]
  },
  {
   "cell_type": "code",
   "execution_count": 68,
   "id": "839ab45c",
   "metadata": {},
   "outputs": [
    {
     "data": {
      "text/html": [
       "<div>\n",
       "<style scoped>\n",
       "    .dataframe tbody tr th:only-of-type {\n",
       "        vertical-align: middle;\n",
       "    }\n",
       "\n",
       "    .dataframe tbody tr th {\n",
       "        vertical-align: top;\n",
       "    }\n",
       "\n",
       "    .dataframe thead th {\n",
       "        text-align: right;\n",
       "    }\n",
       "</style>\n",
       "<table border=\"1\" class=\"dataframe\">\n",
       "  <thead>\n",
       "    <tr style=\"text-align: right;\">\n",
       "      <th></th>\n",
       "      <th>Name</th>\n",
       "      <th>lat</th>\n",
       "      <th>long</th>\n",
       "    </tr>\n",
       "  </thead>\n",
       "  <tbody>\n",
       "    <tr>\n",
       "      <th>79</th>\n",
       "      <td>Rammurthy Nagar, Bangalore, Karnataka, India</td>\n",
       "      <td>NaN</td>\n",
       "      <td>NaN</td>\n",
       "    </tr>\n",
       "    <tr>\n",
       "      <th>85</th>\n",
       "      <td>Sadashiv Nagar, Bangalore, Karnataka, India</td>\n",
       "      <td>NaN</td>\n",
       "      <td>NaN</td>\n",
       "    </tr>\n",
       "  </tbody>\n",
       "</table>\n",
       "</div>"
      ],
      "text/plain": [
       "                                            Name  lat  long\n",
       "79  Rammurthy Nagar, Bangalore, Karnataka, India  NaN   NaN\n",
       "85   Sadashiv Nagar, Bangalore, Karnataka, India  NaN   NaN"
      ]
     },
     "execution_count": 68,
     "metadata": {},
     "output_type": "execute_result"
    }
   ],
   "source": [
    "rest_loc[rest_loc['lat'].isnull()]\n",
    "# can use google search to fill the coords of these locations"
   ]
  },
  {
   "cell_type": "code",
   "execution_count": 72,
   "id": "493d4513",
   "metadata": {},
   "outputs": [],
   "source": [
    "# ignoring  warnings\n",
    "import warnings\n",
    "from warnings import filterwarnings\n",
    "filterwarnings('ignore')"
   ]
  },
  {
   "cell_type": "code",
   "execution_count": 73,
   "id": "9daa0dc0",
   "metadata": {},
   "outputs": [],
   "source": [
    "rest_loc['lat'][79] = 13.0120218\n",
    "rest_loc['long'][79] = 77.6777817\n",
    "\n",
    "rest_loc['lat'][85] = 13.0080052\n",
    "rest_loc['long'][85] = 77.5796762\n"
   ]
  },
  {
   "cell_type": "code",
   "execution_count": 74,
   "id": "3e569333",
   "metadata": {},
   "outputs": [
    {
     "data": {
      "text/plain": [
       "Name    0\n",
       "lat     0\n",
       "long    0\n",
       "dtype: int64"
      ]
     },
     "execution_count": 74,
     "metadata": {},
     "output_type": "execute_result"
    }
   ],
   "source": [
    "rest_loc.isnull().sum()"
   ]
  },
  {
   "cell_type": "markdown",
   "id": "9d85e223",
   "metadata": {},
   "source": [
    "## How to write Structured Queries to extract Lat and Long"
   ]
  },
  {
   "cell_type": "code",
   "execution_count": 76,
   "id": "3a82f83b",
   "metadata": {},
   "outputs": [
    {
     "data": {
      "text/html": [
       "<div>\n",
       "<style scoped>\n",
       "    .dataframe tbody tr th:only-of-type {\n",
       "        vertical-align: middle;\n",
       "    }\n",
       "\n",
       "    .dataframe tbody tr th {\n",
       "        vertical-align: top;\n",
       "    }\n",
       "\n",
       "    .dataframe thead th {\n",
       "        text-align: right;\n",
       "    }\n",
       "</style>\n",
       "<table border=\"1\" class=\"dataframe\">\n",
       "  <thead>\n",
       "    <tr style=\"text-align: right;\">\n",
       "      <th></th>\n",
       "      <th>url</th>\n",
       "      <th>address</th>\n",
       "      <th>name</th>\n",
       "      <th>online_order</th>\n",
       "      <th>book_table</th>\n",
       "      <th>rate</th>\n",
       "      <th>votes</th>\n",
       "      <th>phone</th>\n",
       "      <th>location</th>\n",
       "      <th>rest_type</th>\n",
       "      <th>dish_liked</th>\n",
       "      <th>cuisines</th>\n",
       "      <th>approx_cost(for two people)</th>\n",
       "      <th>reviews_list</th>\n",
       "      <th>menu_item</th>\n",
       "      <th>listed_in(type)</th>\n",
       "      <th>listed_in(city)</th>\n",
       "    </tr>\n",
       "  </thead>\n",
       "  <tbody>\n",
       "    <tr>\n",
       "      <th>0</th>\n",
       "      <td>https://www.zomato.com/bangalore/jalsa-banasha...</td>\n",
       "      <td>942, 21st Main Road, 2nd Stage, Banashankari, ...</td>\n",
       "      <td>Jalsa</td>\n",
       "      <td>Yes</td>\n",
       "      <td>Yes</td>\n",
       "      <td>4.1/5</td>\n",
       "      <td>775</td>\n",
       "      <td>080 42297555\\r\\n+91 9743772233</td>\n",
       "      <td>Banashankari, Bangalore, Karnataka, India</td>\n",
       "      <td>Casual Dining</td>\n",
       "      <td>Pasta, Lunch Buffet, Masala Papad, Paneer Laja...</td>\n",
       "      <td>North Indian, Mughlai, Chinese</td>\n",
       "      <td>800</td>\n",
       "      <td>[('Rated 4.0', 'RATED\\n  A beautiful place to ...</td>\n",
       "      <td>[]</td>\n",
       "      <td>Buffet</td>\n",
       "      <td>Banashankari</td>\n",
       "    </tr>\n",
       "    <tr>\n",
       "      <th>1</th>\n",
       "      <td>https://www.zomato.com/bangalore/spice-elephan...</td>\n",
       "      <td>2nd Floor, 80 Feet Road, Near Big Bazaar, 6th ...</td>\n",
       "      <td>Spice Elephant</td>\n",
       "      <td>Yes</td>\n",
       "      <td>No</td>\n",
       "      <td>4.1/5</td>\n",
       "      <td>787</td>\n",
       "      <td>080 41714161</td>\n",
       "      <td>Banashankari, Bangalore, Karnataka, India</td>\n",
       "      <td>Casual Dining</td>\n",
       "      <td>Momos, Lunch Buffet, Chocolate Nirvana, Thai G...</td>\n",
       "      <td>Chinese, North Indian, Thai</td>\n",
       "      <td>800</td>\n",
       "      <td>[('Rated 4.0', 'RATED\\n  Had been here for din...</td>\n",
       "      <td>[]</td>\n",
       "      <td>Buffet</td>\n",
       "      <td>Banashankari</td>\n",
       "    </tr>\n",
       "  </tbody>\n",
       "</table>\n",
       "</div>"
      ],
      "text/plain": [
       "                                                 url  \\\n",
       "0  https://www.zomato.com/bangalore/jalsa-banasha...   \n",
       "1  https://www.zomato.com/bangalore/spice-elephan...   \n",
       "\n",
       "                                             address            name  \\\n",
       "0  942, 21st Main Road, 2nd Stage, Banashankari, ...           Jalsa   \n",
       "1  2nd Floor, 80 Feet Road, Near Big Bazaar, 6th ...  Spice Elephant   \n",
       "\n",
       "  online_order book_table   rate  votes                           phone  \\\n",
       "0          Yes        Yes  4.1/5    775  080 42297555\\r\\n+91 9743772233   \n",
       "1          Yes         No  4.1/5    787                    080 41714161   \n",
       "\n",
       "                                    location      rest_type  \\\n",
       "0  Banashankari, Bangalore, Karnataka, India  Casual Dining   \n",
       "1  Banashankari, Bangalore, Karnataka, India  Casual Dining   \n",
       "\n",
       "                                          dish_liked  \\\n",
       "0  Pasta, Lunch Buffet, Masala Papad, Paneer Laja...   \n",
       "1  Momos, Lunch Buffet, Chocolate Nirvana, Thai G...   \n",
       "\n",
       "                         cuisines approx_cost(for two people)  \\\n",
       "0  North Indian, Mughlai, Chinese                         800   \n",
       "1     Chinese, North Indian, Thai                         800   \n",
       "\n",
       "                                        reviews_list menu_item  \\\n",
       "0  [('Rated 4.0', 'RATED\\n  A beautiful place to ...        []   \n",
       "1  [('Rated 4.0', 'RATED\\n  Had been here for din...        []   \n",
       "\n",
       "  listed_in(type) listed_in(city)  \n",
       "0          Buffet    Banashankari  \n",
       "1          Buffet    Banashankari  "
      ]
     },
     "execution_count": 76,
     "metadata": {},
     "output_type": "execute_result"
    }
   ],
   "source": [
    "df.head(2)"
   ]
  },
  {
   "cell_type": "code",
   "execution_count": 78,
   "id": "7322f0a1",
   "metadata": {},
   "outputs": [],
   "source": [
    "geolocator = Nominatim(user_agent= \"app\", timeout=None)"
   ]
  },
  {
   "cell_type": "code",
   "execution_count": 77,
   "id": "89369c79",
   "metadata": {},
   "outputs": [
    {
     "data": {
      "text/plain": [
       "'942, 21st Main Road, 2nd Stage, Banashankari, Bangalore'"
      ]
     },
     "execution_count": 77,
     "metadata": {},
     "output_type": "execute_result"
    }
   ],
   "source": [
    "df['address'][0]"
   ]
  },
  {
   "cell_type": "code",
   "execution_count": 81,
   "id": "74204674",
   "metadata": {},
   "outputs": [],
   "source": [
    "loc = geolocator.geocode(df['address'][0]) # geocoding using the physical address"
   ]
  },
  {
   "cell_type": "code",
   "execution_count": 82,
   "id": "7eadaa85",
   "metadata": {},
   "outputs": [
    {
     "data": {
      "text/plain": [
       "False"
      ]
     },
     "execution_count": 82,
     "metadata": {},
     "output_type": "execute_result"
    }
   ],
   "source": [
    "hasattr(loc, 'latitude') # checking if the above obj has the \"latitude\" attribute"
   ]
  },
  {
   "cell_type": "code",
   "execution_count": 83,
   "id": "ced53543",
   "metadata": {},
   "outputs": [],
   "source": [
    "# as the above was false, need to create structured query i.e. tell nominatim the contents of the address\n",
    "# using a dictionary that will be passed to the nominatim, it should be able to geocode\n",
    "\n",
    "addr = {'street': '1st Main Road', 'city': 'Bangalore', 'country': 'India', 'state': 'Karnataka'}\n",
    "addr_geocode = geolocator.geocode(addr)"
   ]
  },
  {
   "cell_type": "code",
   "execution_count": 85,
   "id": "69749bdc",
   "metadata": {},
   "outputs": [
    {
     "data": {
      "text/plain": [
       "True"
      ]
     },
     "execution_count": 85,
     "metadata": {},
     "output_type": "execute_result"
    }
   ],
   "source": [
    "hasattr(addr_geocode, 'latitude')"
   ]
  },
  {
   "cell_type": "code",
   "execution_count": 86,
   "id": "78cbb344",
   "metadata": {},
   "outputs": [
    {
     "data": {
      "text/plain": [
       "12.9935097"
      ]
     },
     "execution_count": 86,
     "metadata": {},
     "output_type": "execute_result"
    }
   ],
   "source": [
    "addr_geocode.latitude"
   ]
  },
  {
   "cell_type": "markdown",
   "id": "27eb77a8",
   "metadata": {},
   "source": [
    "# Exploratory Data Analysis (EDA)"
   ]
  },
  {
   "cell_type": "markdown",
   "id": "ddc0dc53",
   "metadata": {},
   "source": [
    "## Where are most number of restaurants located in Bangalore city?"
   ]
  },
  {
   "cell_type": "code",
   "execution_count": 96,
   "id": "dd8611e5",
   "metadata": {},
   "outputs": [
    {
     "data": {
      "text/plain": [
       "BTM, Bangalore, Karnataka, India                      5124\n",
       "HSR, Bangalore, Karnataka, India                      2523\n",
       "Koramangala 5th Block, Bangalore, Karnataka, India    2504\n",
       "JP Nagar, Bangalore, Karnataka, India                 2235\n",
       "Whitefield, Bangalore, Karnataka, India               2144\n",
       "                                                      ... \n",
       "West Bangalore, Bangalore, Karnataka, India              6\n",
       "Yelahanka, Bangalore, Karnataka, India                   6\n",
       "Jakkur, Bangalore, Karnataka, India                      3\n",
       "Rajarajeshwari Nagar, Bangalore, Karnataka, India        2\n",
       "Peenya, Bangalore, Karnataka, India                      1\n",
       "Name: location, Length: 93, dtype: int64"
      ]
     },
     "execution_count": 96,
     "metadata": {},
     "output_type": "execute_result"
    }
   ],
   "source": [
    "# compute count for each location\n",
    "# lat and long used to make heatmap (used to identify where something occurs/showing density of locations)\n",
    "\n",
    "df['location'].value_counts() # shows frequency of each location"
   ]
  },
  {
   "cell_type": "code",
   "execution_count": 99,
   "id": "54930e0d",
   "metadata": {},
   "outputs": [],
   "source": [
    "type(df['location'].value_counts()) \n",
    "# this shows us that this is a series (list, 1D), but we need it to be a df\n",
    "\n",
    "rest_locations = df['location'].value_counts().reset_index() # converts to df"
   ]
  },
  {
   "cell_type": "code",
   "execution_count": 100,
   "id": "dd36c2d3",
   "metadata": {},
   "outputs": [],
   "source": [
    "rest_locations.columns = [\"Name\", \"count\"]"
   ]
  },
  {
   "cell_type": "code",
   "execution_count": 103,
   "id": "6b3f76a3",
   "metadata": {},
   "outputs": [
    {
     "data": {
      "text/html": [
       "<div>\n",
       "<style scoped>\n",
       "    .dataframe tbody tr th:only-of-type {\n",
       "        vertical-align: middle;\n",
       "    }\n",
       "\n",
       "    .dataframe tbody tr th {\n",
       "        vertical-align: top;\n",
       "    }\n",
       "\n",
       "    .dataframe thead th {\n",
       "        text-align: right;\n",
       "    }\n",
       "</style>\n",
       "<table border=\"1\" class=\"dataframe\">\n",
       "  <thead>\n",
       "    <tr style=\"text-align: right;\">\n",
       "      <th></th>\n",
       "      <th>Name</th>\n",
       "      <th>count</th>\n",
       "    </tr>\n",
       "  </thead>\n",
       "  <tbody>\n",
       "    <tr>\n",
       "      <th>0</th>\n",
       "      <td>BTM, Bangalore, Karnataka, India</td>\n",
       "      <td>5124</td>\n",
       "    </tr>\n",
       "    <tr>\n",
       "      <th>1</th>\n",
       "      <td>HSR, Bangalore, Karnataka, India</td>\n",
       "      <td>2523</td>\n",
       "    </tr>\n",
       "    <tr>\n",
       "      <th>2</th>\n",
       "      <td>Koramangala 5th Block, Bangalore, Karnataka, I...</td>\n",
       "      <td>2504</td>\n",
       "    </tr>\n",
       "    <tr>\n",
       "      <th>3</th>\n",
       "      <td>JP Nagar, Bangalore, Karnataka, India</td>\n",
       "      <td>2235</td>\n",
       "    </tr>\n",
       "    <tr>\n",
       "      <th>4</th>\n",
       "      <td>Whitefield, Bangalore, Karnataka, India</td>\n",
       "      <td>2144</td>\n",
       "    </tr>\n",
       "    <tr>\n",
       "      <th>...</th>\n",
       "      <td>...</td>\n",
       "      <td>...</td>\n",
       "    </tr>\n",
       "    <tr>\n",
       "      <th>88</th>\n",
       "      <td>West Bangalore, Bangalore, Karnataka, India</td>\n",
       "      <td>6</td>\n",
       "    </tr>\n",
       "    <tr>\n",
       "      <th>89</th>\n",
       "      <td>Yelahanka, Bangalore, Karnataka, India</td>\n",
       "      <td>6</td>\n",
       "    </tr>\n",
       "    <tr>\n",
       "      <th>90</th>\n",
       "      <td>Jakkur, Bangalore, Karnataka, India</td>\n",
       "      <td>3</td>\n",
       "    </tr>\n",
       "    <tr>\n",
       "      <th>91</th>\n",
       "      <td>Rajarajeshwari Nagar, Bangalore, Karnataka, India</td>\n",
       "      <td>2</td>\n",
       "    </tr>\n",
       "    <tr>\n",
       "      <th>92</th>\n",
       "      <td>Peenya, Bangalore, Karnataka, India</td>\n",
       "      <td>1</td>\n",
       "    </tr>\n",
       "  </tbody>\n",
       "</table>\n",
       "<p>93 rows × 2 columns</p>\n",
       "</div>"
      ],
      "text/plain": [
       "                                                 Name  count\n",
       "0                    BTM, Bangalore, Karnataka, India   5124\n",
       "1                    HSR, Bangalore, Karnataka, India   2523\n",
       "2   Koramangala 5th Block, Bangalore, Karnataka, I...   2504\n",
       "3               JP Nagar, Bangalore, Karnataka, India   2235\n",
       "4             Whitefield, Bangalore, Karnataka, India   2144\n",
       "..                                                ...    ...\n",
       "88        West Bangalore, Bangalore, Karnataka, India      6\n",
       "89             Yelahanka, Bangalore, Karnataka, India      6\n",
       "90                Jakkur, Bangalore, Karnataka, India      3\n",
       "91  Rajarajeshwari Nagar, Bangalore, Karnataka, India      2\n",
       "92                Peenya, Bangalore, Karnataka, India      1\n",
       "\n",
       "[93 rows x 2 columns]"
      ]
     },
     "execution_count": 103,
     "metadata": {},
     "output_type": "execute_result"
    }
   ],
   "source": [
    "rest_locations"
   ]
  },
  {
   "cell_type": "code",
   "execution_count": 105,
   "id": "243cb01f",
   "metadata": {},
   "outputs": [],
   "source": [
    "# but we already have a rest_loc df w lat and long; therefore going to merge using common attr (name)\n",
    "# left df (rest_locations) merge w right df (rest_loc) on attr 'Name'\n",
    "bang_rest_locations = rest_locations.merge(rest_loc, on = 'Name') "
   ]
  },
  {
   "cell_type": "code",
   "execution_count": 107,
   "id": "8418e45b",
   "metadata": {},
   "outputs": [
    {
     "data": {
      "text/html": [
       "<div>\n",
       "<style scoped>\n",
       "    .dataframe tbody tr th:only-of-type {\n",
       "        vertical-align: middle;\n",
       "    }\n",
       "\n",
       "    .dataframe tbody tr th {\n",
       "        vertical-align: top;\n",
       "    }\n",
       "\n",
       "    .dataframe thead th {\n",
       "        text-align: right;\n",
       "    }\n",
       "</style>\n",
       "<table border=\"1\" class=\"dataframe\">\n",
       "  <thead>\n",
       "    <tr style=\"text-align: right;\">\n",
       "      <th></th>\n",
       "      <th>Name</th>\n",
       "      <th>count</th>\n",
       "      <th>lat</th>\n",
       "      <th>long</th>\n",
       "    </tr>\n",
       "  </thead>\n",
       "  <tbody>\n",
       "    <tr>\n",
       "      <th>0</th>\n",
       "      <td>BTM, Bangalore, Karnataka, India</td>\n",
       "      <td>5124</td>\n",
       "      <td>12.911276</td>\n",
       "      <td>77.604565</td>\n",
       "    </tr>\n",
       "    <tr>\n",
       "      <th>1</th>\n",
       "      <td>HSR, Bangalore, Karnataka, India</td>\n",
       "      <td>2523</td>\n",
       "      <td>12.911623</td>\n",
       "      <td>77.638862</td>\n",
       "    </tr>\n",
       "    <tr>\n",
       "      <th>2</th>\n",
       "      <td>Koramangala 5th Block, Bangalore, Karnataka, I...</td>\n",
       "      <td>2504</td>\n",
       "      <td>12.934843</td>\n",
       "      <td>77.618977</td>\n",
       "    </tr>\n",
       "    <tr>\n",
       "      <th>3</th>\n",
       "      <td>JP Nagar, Bangalore, Karnataka, India</td>\n",
       "      <td>2235</td>\n",
       "      <td>12.909694</td>\n",
       "      <td>77.586607</td>\n",
       "    </tr>\n",
       "    <tr>\n",
       "      <th>4</th>\n",
       "      <td>Whitefield, Bangalore, Karnataka, India</td>\n",
       "      <td>2144</td>\n",
       "      <td>12.969637</td>\n",
       "      <td>77.749745</td>\n",
       "    </tr>\n",
       "    <tr>\n",
       "      <th>...</th>\n",
       "      <td>...</td>\n",
       "      <td>...</td>\n",
       "      <td>...</td>\n",
       "      <td>...</td>\n",
       "    </tr>\n",
       "    <tr>\n",
       "      <th>88</th>\n",
       "      <td>West Bangalore, Bangalore, Karnataka, India</td>\n",
       "      <td>6</td>\n",
       "      <td>13.009476</td>\n",
       "      <td>77.553089</td>\n",
       "    </tr>\n",
       "    <tr>\n",
       "      <th>89</th>\n",
       "      <td>Yelahanka, Bangalore, Karnataka, India</td>\n",
       "      <td>6</td>\n",
       "      <td>13.100698</td>\n",
       "      <td>77.596345</td>\n",
       "    </tr>\n",
       "    <tr>\n",
       "      <th>90</th>\n",
       "      <td>Jakkur, Bangalore, Karnataka, India</td>\n",
       "      <td>3</td>\n",
       "      <td>13.078474</td>\n",
       "      <td>77.606894</td>\n",
       "    </tr>\n",
       "    <tr>\n",
       "      <th>91</th>\n",
       "      <td>Rajarajeshwari Nagar, Bangalore, Karnataka, India</td>\n",
       "      <td>2</td>\n",
       "      <td>12.927441</td>\n",
       "      <td>77.515522</td>\n",
       "    </tr>\n",
       "    <tr>\n",
       "      <th>92</th>\n",
       "      <td>Peenya, Bangalore, Karnataka, India</td>\n",
       "      <td>1</td>\n",
       "      <td>13.032942</td>\n",
       "      <td>77.527325</td>\n",
       "    </tr>\n",
       "  </tbody>\n",
       "</table>\n",
       "<p>93 rows × 4 columns</p>\n",
       "</div>"
      ],
      "text/plain": [
       "                                                 Name  count        lat  \\\n",
       "0                    BTM, Bangalore, Karnataka, India   5124  12.911276   \n",
       "1                    HSR, Bangalore, Karnataka, India   2523  12.911623   \n",
       "2   Koramangala 5th Block, Bangalore, Karnataka, I...   2504  12.934843   \n",
       "3               JP Nagar, Bangalore, Karnataka, India   2235  12.909694   \n",
       "4             Whitefield, Bangalore, Karnataka, India   2144  12.969637   \n",
       "..                                                ...    ...        ...   \n",
       "88        West Bangalore, Bangalore, Karnataka, India      6  13.009476   \n",
       "89             Yelahanka, Bangalore, Karnataka, India      6  13.100698   \n",
       "90                Jakkur, Bangalore, Karnataka, India      3  13.078474   \n",
       "91  Rajarajeshwari Nagar, Bangalore, Karnataka, India      2  12.927441   \n",
       "92                Peenya, Bangalore, Karnataka, India      1  13.032942   \n",
       "\n",
       "         long  \n",
       "0   77.604565  \n",
       "1   77.638862  \n",
       "2   77.618977  \n",
       "3   77.586607  \n",
       "4   77.749745  \n",
       "..        ...  \n",
       "88  77.553089  \n",
       "89  77.596345  \n",
       "90  77.606894  \n",
       "91  77.515522  \n",
       "92  77.527325  \n",
       "\n",
       "[93 rows x 4 columns]"
      ]
     },
     "execution_count": 107,
     "metadata": {},
     "output_type": "execute_result"
    }
   ],
   "source": [
    "bang_rest_locations"
   ]
  },
  {
   "cell_type": "markdown",
   "id": "31f1fcaf",
   "metadata": {},
   "source": [
    "### Create Heatmap"
   ]
  },
  {
   "cell_type": "code",
   "execution_count": null,
   "id": "9b10b39b",
   "metadata": {},
   "outputs": [],
   "source": [
    "# simple 2 step"
   ]
  },
  {
   "cell_type": "code",
   "execution_count": 110,
   "id": "5609b94f",
   "metadata": {},
   "outputs": [
    {
     "name": "stdout",
     "output_type": "stream",
     "text": [
      "Collecting folium\n",
      "  Obtaining dependency information for folium from https://files.pythonhosted.org/packages/18/09/8569904c8ce5679cc02826d98de633c07abcd2443a23181e5f71ff9dacbc/folium-0.15.1-py2.py3-none-any.whl.metadata\n",
      "  Downloading folium-0.15.1-py2.py3-none-any.whl.metadata (3.4 kB)\n",
      "Collecting branca>=0.6.0 (from folium)\n",
      "  Obtaining dependency information for branca>=0.6.0 from https://files.pythonhosted.org/packages/17/ce/14166d0e273d12065516625fb02426350298e7b4ba59198b5fe454b46202/branca-0.7.1-py3-none-any.whl.metadata\n",
      "  Downloading branca-0.7.1-py3-none-any.whl.metadata (1.5 kB)\n",
      "Requirement already satisfied: jinja2>=2.9 in c:\\users\\dlaminis\\appdata\\local\\anaconda3\\lib\\site-packages (from folium) (3.1.2)\n",
      "Requirement already satisfied: numpy in c:\\users\\dlaminis\\appdata\\local\\anaconda3\\lib\\site-packages (from folium) (1.24.3)\n",
      "Requirement already satisfied: requests in c:\\users\\dlaminis\\appdata\\local\\anaconda3\\lib\\site-packages (from folium) (2.31.0)\n",
      "Requirement already satisfied: xyzservices in c:\\users\\dlaminis\\appdata\\local\\anaconda3\\lib\\site-packages (from folium) (2022.9.0)\n",
      "Requirement already satisfied: MarkupSafe>=2.0 in c:\\users\\dlaminis\\appdata\\local\\anaconda3\\lib\\site-packages (from jinja2>=2.9->folium) (2.1.1)\n",
      "Requirement already satisfied: charset-normalizer<4,>=2 in c:\\users\\dlaminis\\appdata\\local\\anaconda3\\lib\\site-packages (from requests->folium) (2.0.4)\n",
      "Requirement already satisfied: idna<4,>=2.5 in c:\\users\\dlaminis\\appdata\\local\\anaconda3\\lib\\site-packages (from requests->folium) (3.4)\n",
      "Requirement already satisfied: urllib3<3,>=1.21.1 in c:\\users\\dlaminis\\appdata\\local\\anaconda3\\lib\\site-packages (from requests->folium) (1.26.16)\n",
      "Requirement already satisfied: certifi>=2017.4.17 in c:\\users\\dlaminis\\appdata\\local\\anaconda3\\lib\\site-packages (from requests->folium) (2023.7.22)\n",
      "Downloading folium-0.15.1-py2.py3-none-any.whl (97 kB)\n",
      "   ---------------------------------------- 0.0/97.0 kB ? eta -:--:--\n",
      "   ------------ --------------------------- 30.7/97.0 kB 640.0 kB/s eta 0:00:01\n",
      "   ---------------- ----------------------- 41.0/97.0 kB 487.6 kB/s eta 0:00:01\n",
      "   ------------------------- -------------- 61.4/97.0 kB 465.5 kB/s eta 0:00:01\n",
      "   ------------------------------------- -- 92.2/97.0 kB 521.8 kB/s eta 0:00:01\n",
      "   ---------------------------------------- 97.0/97.0 kB 504.6 kB/s eta 0:00:00\n",
      "Downloading branca-0.7.1-py3-none-any.whl (25 kB)\n",
      "Installing collected packages: branca, folium\n",
      "Successfully installed branca-0.7.1 folium-0.15.1\n"
     ]
    }
   ],
   "source": [
    "!pip install folium"
   ]
  },
  {
   "cell_type": "code",
   "execution_count": 117,
   "id": "f856360b",
   "metadata": {},
   "outputs": [],
   "source": [
    "import folium"
   ]
  },
  {
   "cell_type": "code",
   "execution_count": 118,
   "id": "7daf997c",
   "metadata": {},
   "outputs": [],
   "source": [
    "# create function that will generate basemap \n",
    "def generate_basemap():\n",
    "    basemap = folium.Map(location = [12.97 , 77.59])\n",
    "    return basemap"
   ]
  },
  {
   "cell_type": "code",
   "execution_count": 121,
   "id": "d8d8ced3",
   "metadata": {},
   "outputs": [],
   "source": [
    "basemap = generate_basemap()"
   ]
  },
  {
   "cell_type": "code",
   "execution_count": 122,
   "id": "840f4f93",
   "metadata": {},
   "outputs": [],
   "source": [
    "from folium.plugins import HeatMap"
   ]
  },
  {
   "cell_type": "code",
   "execution_count": 126,
   "id": "722b5f97",
   "metadata": {},
   "outputs": [
    {
     "data": {
      "text/html": [
       "<div>\n",
       "<style scoped>\n",
       "    .dataframe tbody tr th:only-of-type {\n",
       "        vertical-align: middle;\n",
       "    }\n",
       "\n",
       "    .dataframe tbody tr th {\n",
       "        vertical-align: top;\n",
       "    }\n",
       "\n",
       "    .dataframe thead th {\n",
       "        text-align: right;\n",
       "    }\n",
       "</style>\n",
       "<table border=\"1\" class=\"dataframe\">\n",
       "  <thead>\n",
       "    <tr style=\"text-align: right;\">\n",
       "      <th></th>\n",
       "      <th>lat</th>\n",
       "      <th>long</th>\n",
       "      <th>count</th>\n",
       "    </tr>\n",
       "  </thead>\n",
       "  <tbody>\n",
       "    <tr>\n",
       "      <th>0</th>\n",
       "      <td>12.911276</td>\n",
       "      <td>77.604565</td>\n",
       "      <td>5124</td>\n",
       "    </tr>\n",
       "    <tr>\n",
       "      <th>1</th>\n",
       "      <td>12.911623</td>\n",
       "      <td>77.638862</td>\n",
       "      <td>2523</td>\n",
       "    </tr>\n",
       "    <tr>\n",
       "      <th>2</th>\n",
       "      <td>12.934843</td>\n",
       "      <td>77.618977</td>\n",
       "      <td>2504</td>\n",
       "    </tr>\n",
       "    <tr>\n",
       "      <th>3</th>\n",
       "      <td>12.909694</td>\n",
       "      <td>77.586607</td>\n",
       "      <td>2235</td>\n",
       "    </tr>\n",
       "    <tr>\n",
       "      <th>4</th>\n",
       "      <td>12.969637</td>\n",
       "      <td>77.749745</td>\n",
       "      <td>2144</td>\n",
       "    </tr>\n",
       "    <tr>\n",
       "      <th>...</th>\n",
       "      <td>...</td>\n",
       "      <td>...</td>\n",
       "      <td>...</td>\n",
       "    </tr>\n",
       "    <tr>\n",
       "      <th>88</th>\n",
       "      <td>13.009476</td>\n",
       "      <td>77.553089</td>\n",
       "      <td>6</td>\n",
       "    </tr>\n",
       "    <tr>\n",
       "      <th>89</th>\n",
       "      <td>13.100698</td>\n",
       "      <td>77.596345</td>\n",
       "      <td>6</td>\n",
       "    </tr>\n",
       "    <tr>\n",
       "      <th>90</th>\n",
       "      <td>13.078474</td>\n",
       "      <td>77.606894</td>\n",
       "      <td>3</td>\n",
       "    </tr>\n",
       "    <tr>\n",
       "      <th>91</th>\n",
       "      <td>12.927441</td>\n",
       "      <td>77.515522</td>\n",
       "      <td>2</td>\n",
       "    </tr>\n",
       "    <tr>\n",
       "      <th>92</th>\n",
       "      <td>13.032942</td>\n",
       "      <td>77.527325</td>\n",
       "      <td>1</td>\n",
       "    </tr>\n",
       "  </tbody>\n",
       "</table>\n",
       "<p>93 rows × 3 columns</p>\n",
       "</div>"
      ],
      "text/plain": [
       "          lat       long  count\n",
       "0   12.911276  77.604565   5124\n",
       "1   12.911623  77.638862   2523\n",
       "2   12.934843  77.618977   2504\n",
       "3   12.909694  77.586607   2235\n",
       "4   12.969637  77.749745   2144\n",
       "..        ...        ...    ...\n",
       "88  13.009476  77.553089      6\n",
       "89  13.100698  77.596345      6\n",
       "90  13.078474  77.606894      3\n",
       "91  12.927441  77.515522      2\n",
       "92  13.032942  77.527325      1\n",
       "\n",
       "[93 rows x 3 columns]"
      ]
     },
     "execution_count": 126,
     "metadata": {},
     "output_type": "execute_result"
    }
   ],
   "source": [
    "bang_rest_locations.columns\n",
    "bang_rest_locations[['lat', 'long', 'count']]"
   ]
  },
  {
   "cell_type": "code",
   "execution_count": 127,
   "id": "818b1bf4",
   "metadata": {},
   "outputs": [
    {
     "data": {
      "text/plain": [
       "<folium.plugins.heat_map.HeatMap at 0x14f695fe310>"
      ]
     },
     "execution_count": 127,
     "metadata": {},
     "output_type": "execute_result"
    }
   ],
   "source": [
    "HeatMap(bang_rest_locations[['lat', 'long', 'count']]).add_to(basemap) # takes in [lat, long, weight/count] to be displayed\n",
    "# needs to be added on to basemap as it just displays as a HeatMap object"
   ]
  },
  {
   "cell_type": "code",
   "execution_count": 128,
   "id": "d82afc85",
   "metadata": {},
   "outputs": [
    {
     "data": {
      "text/html": [
       "<div style=\"width:100%;\"><div style=\"position:relative;width:100%;height:0;padding-bottom:60%;\"><span style=\"color:#565656\">Make this Notebook Trusted to load map: File -> Trust Notebook</span><iframe srcdoc=\"&lt;!DOCTYPE html&gt;\n",
       "&lt;html&gt;\n",
       "&lt;head&gt;\n",
       "    \n",
       "    &lt;meta http-equiv=&quot;content-type&quot; content=&quot;text/html; charset=UTF-8&quot; /&gt;\n",
       "    \n",
       "        &lt;script&gt;\n",
       "            L_NO_TOUCH = false;\n",
       "            L_DISABLE_3D = false;\n",
       "        &lt;/script&gt;\n",
       "    \n",
       "    &lt;style&gt;html, body {width: 100%;height: 100%;margin: 0;padding: 0;}&lt;/style&gt;\n",
       "    &lt;style&gt;#map {position:absolute;top:0;bottom:0;right:0;left:0;}&lt;/style&gt;\n",
       "    &lt;script src=&quot;https://cdn.jsdelivr.net/npm/leaflet@1.9.3/dist/leaflet.js&quot;&gt;&lt;/script&gt;\n",
       "    &lt;script src=&quot;https://code.jquery.com/jquery-3.7.1.min.js&quot;&gt;&lt;/script&gt;\n",
       "    &lt;script src=&quot;https://cdn.jsdelivr.net/npm/bootstrap@5.2.2/dist/js/bootstrap.bundle.min.js&quot;&gt;&lt;/script&gt;\n",
       "    &lt;script src=&quot;https://cdnjs.cloudflare.com/ajax/libs/Leaflet.awesome-markers/2.0.2/leaflet.awesome-markers.js&quot;&gt;&lt;/script&gt;\n",
       "    &lt;link rel=&quot;stylesheet&quot; href=&quot;https://cdn.jsdelivr.net/npm/leaflet@1.9.3/dist/leaflet.css&quot;/&gt;\n",
       "    &lt;link rel=&quot;stylesheet&quot; href=&quot;https://cdn.jsdelivr.net/npm/bootstrap@5.2.2/dist/css/bootstrap.min.css&quot;/&gt;\n",
       "    &lt;link rel=&quot;stylesheet&quot; href=&quot;https://netdna.bootstrapcdn.com/bootstrap/3.0.0/css/bootstrap.min.css&quot;/&gt;\n",
       "    &lt;link rel=&quot;stylesheet&quot; href=&quot;https://cdn.jsdelivr.net/npm/@fortawesome/fontawesome-free@6.2.0/css/all.min.css&quot;/&gt;\n",
       "    &lt;link rel=&quot;stylesheet&quot; href=&quot;https://cdnjs.cloudflare.com/ajax/libs/Leaflet.awesome-markers/2.0.2/leaflet.awesome-markers.css&quot;/&gt;\n",
       "    &lt;link rel=&quot;stylesheet&quot; href=&quot;https://cdn.jsdelivr.net/gh/python-visualization/folium/folium/templates/leaflet.awesome.rotate.min.css&quot;/&gt;\n",
       "    \n",
       "            &lt;meta name=&quot;viewport&quot; content=&quot;width=device-width,\n",
       "                initial-scale=1.0, maximum-scale=1.0, user-scalable=no&quot; /&gt;\n",
       "            &lt;style&gt;\n",
       "                #map_e5d1d65f3164f7d302d0f1d1d2afcf8e {\n",
       "                    position: relative;\n",
       "                    width: 100.0%;\n",
       "                    height: 100.0%;\n",
       "                    left: 0.0%;\n",
       "                    top: 0.0%;\n",
       "                }\n",
       "                .leaflet-container { font-size: 1rem; }\n",
       "            &lt;/style&gt;\n",
       "        \n",
       "    &lt;script src=&quot;https://cdn.jsdelivr.net/gh/python-visualization/folium@main/folium/templates/leaflet_heat.min.js&quot;&gt;&lt;/script&gt;\n",
       "&lt;/head&gt;\n",
       "&lt;body&gt;\n",
       "    \n",
       "    \n",
       "            &lt;div class=&quot;folium-map&quot; id=&quot;map_e5d1d65f3164f7d302d0f1d1d2afcf8e&quot; &gt;&lt;/div&gt;\n",
       "        \n",
       "&lt;/body&gt;\n",
       "&lt;script&gt;\n",
       "    \n",
       "    \n",
       "            var map_e5d1d65f3164f7d302d0f1d1d2afcf8e = L.map(\n",
       "                &quot;map_e5d1d65f3164f7d302d0f1d1d2afcf8e&quot;,\n",
       "                {\n",
       "                    center: [12.97, 77.59],\n",
       "                    crs: L.CRS.EPSG3857,\n",
       "                    zoom: 10,\n",
       "                    zoomControl: true,\n",
       "                    preferCanvas: false,\n",
       "                }\n",
       "            );\n",
       "\n",
       "            \n",
       "\n",
       "        \n",
       "    \n",
       "            var tile_layer_6881a8b6ee852598239a4f1f405ad1ce = L.tileLayer(\n",
       "                &quot;https://tile.openstreetmap.org/{z}/{x}/{y}.png&quot;,\n",
       "                {&quot;attribution&quot;: &quot;\\u0026copy; \\u003ca href=\\&quot;https://www.openstreetmap.org/copyright\\&quot;\\u003eOpenStreetMap\\u003c/a\\u003e contributors&quot;, &quot;detectRetina&quot;: false, &quot;maxNativeZoom&quot;: 19, &quot;maxZoom&quot;: 19, &quot;minZoom&quot;: 0, &quot;noWrap&quot;: false, &quot;opacity&quot;: 1, &quot;subdomains&quot;: &quot;abc&quot;, &quot;tms&quot;: false}\n",
       "            );\n",
       "        \n",
       "    \n",
       "            tile_layer_6881a8b6ee852598239a4f1f405ad1ce.addTo(map_e5d1d65f3164f7d302d0f1d1d2afcf8e);\n",
       "        \n",
       "    \n",
       "            var heat_map_ea391260f657feaf7cd203d3a6ebb786 = L.heatLayer(\n",
       "                [[12.911275849999999, 77.60456543431182, 5124.0], [12.9116225, 77.6388622, 2523.0], [12.9348429, 77.6189768, 2504.0], [12.9096941, 77.5866067, 2235.0], [12.9696365, 77.7497448, 2144.0], [12.9732913, 77.6404672, 2083.0], [12.9292731, 77.5824229, 1926.0], [12.9552572, 77.6984163, 1846.0], [12.8551932, 77.5886889, 1630.0], [12.93103185, 77.6782471, 1286.0], [12.848759900000001, 77.64825295827616, 1258.0], [12.9277245, 77.6327822, 1238.0], [12.9750849, 77.6079337, 1218.0], [12.9364846, 77.6134783, 1181.0], [12.9390255, 77.6238477, 1156.0], [12.9244812, 77.6503058, 1065.0], [12.9778793, 77.6246697, 1023.0], [12.9327778, 77.6294052, 1017.0], [12.9755264, 77.6067902, 918.0], [12.9152208, 77.573598, 906.0], [13.0221416, 77.6403368, 853.0], [12.9662372, 77.6067556, 812.0], [12.9986827, 77.615525, 727.0], [13.0027353, 77.5703253, 725.0], [12.9417261, 77.5755021, 684.0], [12.974103, 77.6110683, 675.0], [13.0141618, 77.6518539, 664.0], [12.957434549999999, 77.71470815294066, 658.0], [13.0268145, 77.5717187, 649.0], [13.0093455, 77.6377094, 648.0], [12.9882338, 77.554883, 591.0], [12.9756281, 77.6023664, 569.0], [12.9749487, 77.5997248, 529.0], [12.9575547, 77.5979099, 511.0], [12.986391, 77.6075416, 499.0], [12.9624669, 77.6381958, 496.0], [12.9844498, 77.5971134, 491.0], [12.9572041, 77.6741554, 446.0], [12.945245, 77.6269144, 439.0], [12.9822324, 77.6082947, 370.0], [12.9744255, 77.6015301, 352.0], [12.9408685, 77.617338, 320.0], [12.9934283, 77.5902145, 295.0], [12.9678074, 77.6568367, 272.0], [12.9489339, 77.5968273, 246.0], [12.9089453, 77.6239038, 238.0], [12.9282918, 77.6254034, 216.0], [12.9081487, 77.5553179, 195.0], [12.973936, 77.6509982, 194.0], [12.991257, 77.5384096, 191.0], [13.0431413, 77.6209093, 187.0], [12.9931876, 77.5753419, 165.0], [13.0258087, 77.6305067, 161.0], [12.978129800000001, 77.5722060613441, 155.0], [13.0358698, 77.6323597, 153.0], [12.9821293, 77.5988521, 151.0], [12.9843978, 77.5826837, 139.0], [12.965717999999999, 77.5762705372058, 126.0], [13.02383, 77.5529215, 119.0], [12.944569, 77.7469486, 117.0], [12.987693, 77.736867, 113.0], [12.93060265, 77.59080171821157, 107.0], [12.9243692, 77.6242433, 102.0], [12.9344425, 77.6122378, 102.0], [12.9846713, 77.6790908, 101.0], [12.985098650000001, 77.66311735, 90.0], [12.9660722, 77.6125940647638, 80.0], [13.0227204, 77.595715, 80.0], [12.9578658, 77.6958748, 76.0], [13.0080052, 77.5796762, 63.0], [13.0621474, 77.58006135480495, 53.0], [12.9340114, 77.6222304, 48.0], [13.001147, 77.61822712748447, 44.0], [13.0464531, 77.5483803, 38.0], [12.975608, 77.5553564, 34.0], [13.0120218, 77.6777817, 32.0], [12.957998, 77.6037312, 27.0], [12.9893513, 77.5859454, 27.0], [13.0262267, 77.7205624, 22.0], [12.9466619, 77.5300896, 22.0], [12.8901688, 77.5639838, 19.0], [13.007516, 77.695935, 18.0], [12.9055682, 77.5455438, 17.0], [13.0382184, 77.5919, 14.0], [13.022234699999998, 77.56718324768107, 14.0], [12.9176571, 77.4837568, 9.0], [12.9841958, 77.51919296908994, 9.0], [12.97339325, 77.61123426914668, 8.0], [13.009476450000001, 77.55308891231309, 6.0], [13.1006982, 77.5963454, 6.0], [13.0784743, 77.6068938, 3.0], [12.9274413, 77.5155224, 2.0], [13.0329419, 77.5273253, 1.0]],\n",
       "                {&quot;blur&quot;: 15, &quot;maxZoom&quot;: 18, &quot;minOpacity&quot;: 0.5, &quot;radius&quot;: 25}\n",
       "            );\n",
       "        \n",
       "    \n",
       "            heat_map_ea391260f657feaf7cd203d3a6ebb786.addTo(map_e5d1d65f3164f7d302d0f1d1d2afcf8e);\n",
       "        \n",
       "&lt;/script&gt;\n",
       "&lt;/html&gt;\" style=\"position:absolute;width:100%;height:100%;left:0;top:0;border:none !important;\" allowfullscreen webkitallowfullscreen mozallowfullscreen></iframe></div></div>"
      ],
      "text/plain": [
       "<folium.folium.Map at 0x14f692a3010>"
      ]
     },
     "execution_count": 128,
     "metadata": {},
     "output_type": "execute_result"
    }
   ],
   "source": [
    "basemap"
   ]
  }
 ],
 "metadata": {
  "kernelspec": {
   "display_name": "Python 3 (ipykernel)",
   "language": "python",
   "name": "python3"
  },
  "language_info": {
   "codemirror_mode": {
    "name": "ipython",
    "version": 3
   },
   "file_extension": ".py",
   "mimetype": "text/x-python",
   "name": "python",
   "nbconvert_exporter": "python",
   "pygments_lexer": "ipython3",
   "version": "3.11.4"
  }
 },
 "nbformat": 4,
 "nbformat_minor": 5
}
